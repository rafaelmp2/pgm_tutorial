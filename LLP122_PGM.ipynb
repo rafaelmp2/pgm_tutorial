{
 "cells": [
  {
   "cell_type": "markdown",
   "metadata": {},
   "source": [
    "# Probabilistic Graphical Models"
   ]
  },
  {
   "cell_type": "markdown",
   "metadata": {},
   "source": [
    "*For further detailed information regarding Probabilistic Graphical Models, refer to the Chapter 8 of the book \"Pattern Recognition and Machine Learning\", by Christopher M. Bishop.*\n",
    "\n",
    "In probability theory it is possible to solve and deduce most of the problems using two fundamental rules:"
   ]
  },
  {
   "cell_type": "markdown",
   "metadata": {},
   "source": [
    "* Sum rule $$p(X)=\\sum_{Y} p(X,Y)$$ \n",
    "\n",
    "* Product rule $$p(X,Y)=p(Y|X)p(X)$$"
   ]
  },
  {
   "cell_type": "markdown",
   "metadata": {},
   "source": [
    "However, when it comes to more complex problems, it can be useful to represent our probability distribution using a diagrammatic representation.<p>**Graphical Models** (GM) are a type of probabilistic models that allow to represent a joint probability distribution as a graph considering the dependencies among the variables in use. They can help to an easier interpretation of the distribution and, furthermore, a graph is a more efficient representation for a computer."
   ]
  },
  {
   "cell_type": "markdown",
   "metadata": {},
   "source": [
    "## Graph Theory and Probability"
   ]
  },
  {
   "cell_type": "markdown",
   "metadata": {},
   "source": [
    "To understand GM we first need to know what a graph is. We can define a **graph** as a group of nodes where some of them are connected among themselves through edges. A simple example of a 4-node graph can be:"
   ]
  },
  {
   "cell_type": "markdown",
   "metadata": {},
   "source": [
    "<img src=\"resources/graph.png\" width=\"100\">"
   ]
  },
  {
   "cell_type": "markdown",
   "metadata": {},
   "source": [
    "In graphical models, the graph above represents a joint probability of 4 variables A, B, C and D,  $p (A,B,C,D)$.<p> Now, to understand the dependencies represented by the GM, we first need to know two different types of graphs: undirected and directed graphs. As the name says, an undirected graph is a graph where its connections do not follow a particular direction. In other words, it is possible to iterate over the graph in both directions of the edges.<p> A directed graph is a graph where the nodes are connected according to a specific direction defined by an arrow in the edges between them. In a directed graph, it is only possible to iterate over it in one direction. In GM, these connections represents a relationship between both variables. "
   ]
  },
  {
   "cell_type": "markdown",
   "metadata": {},
   "source": [
    "<img src=\"dir_undir.png\" width=\"300\">"
   ]
  },
  {
   "cell_type": "markdown",
   "metadata": {},
   "source": [
    "In conclusion, in graph **a)** the **path A->C** is possible while in **b)** only **C->A** is possible, since it is directed. In the case of the directed graph **b)**, the node A is called a **descendant** of C and B."
   ]
  },
  {
   "cell_type": "markdown",
   "metadata": {},
   "source": [
    "## Conditional Independence in Graphical Models"
   ]
  },
  {
   "cell_type": "markdown",
   "metadata": {},
   "source": [
    "Now that we know what a graph is we can see how to represent a joint distribution as a GM and the depndencies between the variables.<br>We enhanced the difference between directed and undirected graphs because the representation will have a different meaning depending on the type of graph.<br>Firstly, let's introduce the concept of conditional independence.\n",
    "We say that two events are conditionally independent if they are independent given a third event. Consider three variables A, B and C. So, we say that **A is conditionally independent of B given C** if<p> $$p(A,B|C)=p(A|B,C)p(B|C)=p(A|C)p(B|C)$$<br>which is equivalent to write $$p(A|B,C)=p(A|C)$$<p>The short notation used to represent conditional independence is $A \\perp\\!\\!\\!\\perp B \\: | \\: C$ ."
   ]
  },
  {
   "cell_type": "markdown",
   "metadata": {},
   "source": [
    "### Directed Graphical Models"
   ]
  },
  {
   "cell_type": "markdown",
   "metadata": {},
   "source": [
    "Consider the following joint probability: $$p(A,B,C)=p(A)p(B)p(C|A,B)$$"
   ]
  },
  {
   "cell_type": "markdown",
   "metadata": {},
   "source": [
    "This is a simple probability function, but we can represent it as a graphical model. \n"
   ]
  },
  {
   "cell_type": "markdown",
   "metadata": {},
   "source": [
    "<img src=\"resources/pgm_1.png\" width=\"150\">"
   ]
  },
  {
   "cell_type": "markdown",
   "metadata": {},
   "source": [
    "As we saw before, the connection A->C and B->C means that there is a relationship between them. If we read the probability function and look to the graph at the same time, we can see two single variables represented by A and B. Thus, these are represented as the first nodes of the graph. The term $p(C|A,B)$ tells that C is conditioned on A and B. So, in the graph we create a connection that goes from A to C and B to C. The arrow on the edge indicates that the variable pointed is conditioned on the variable on the other end of the edge.<br>By simply looking to the GM, we can easily say that, given nothing, the variable A is independent of the variable B! This is short noted as $A \\perp\\!\\!\\!\\perp B \\: |\\: \\emptyset$ . In a directed graph we can see that by looking to A and B and see if the path between them is \"blocked\"."
   ]
  },
  {
   "cell_type": "markdown",
   "metadata": {},
   "source": [
    "Meanwhile, if we observe the variable C, the scenario is different. "
   ]
  },
  {
   "cell_type": "markdown",
   "metadata": {},
   "source": [
    "<img src=\"resources/pgm_2.png\" width=\"150\">"
   ]
  },
  {
   "cell_type": "markdown",
   "metadata": {},
   "source": [
    "So, in this case we can say that, given C, the conditional independency property between A and B does not hold! We represent this as $A \\not\\!\\perp\\!\\!\\!\\perp B \\: |\\: C$ . This happens because if we know C, then the path between A and B is not \"blocked\" anymore. In other words, by knowing C we have a straight connection between A and B. <br> So knowing this we can infer independency from a directed GM following the concept of **d-separation**. Two nodes are said to be d-separated if the path between both is \"blocked\". We say that the path is \"blocked\" by considering two rules; given C (observing C), A is said to be d-separated from B if any path between them contains a node such that:\n",
    "* the arrows on the path from A to B meet either head-to-tail or tail-to-tail at the node and the node is in the set C\n",
    "* the arrows meet head-to-head at the node and neither the node or any of its descendants is part of the set C"
   ]
  },
  {
   "cell_type": "markdown",
   "metadata": {},
   "source": [
    "#### Examples of directed GM and probability functions"
   ]
  },
  {
   "cell_type": "markdown",
   "metadata": {},
   "source": [
    "1. Consider the probability function $$p(A,B,C)$$<br>By applying the product rule and the Bayes rule, we have that $$p(A,B,C)=p(A|B,C)p(B,C)$$ <br>$$=p(A|B,C)p(B)p(C|B)$$ <br>$$=\\frac{p(A|B,C)p(B)p(B|C)p(C)}{p(B)}$$<br>$$=p(A|B,C)p(B|C)p(C)$$<p>\n",
    "So now that we have simplified our function, we can represent it as a GM.<p>\n",
    "<img src=\"resources/pgm_3.png\" width=\"150\">\n",
    "<p>If we refer back again to the conditional independency rules stated above, we can see that in this example we cannot infer conditional independence over any group of variables, either we observe one of them or not.\n",
    "    "
   ]
  },
  {
   "cell_type": "markdown",
   "metadata": {},
   "source": [
    "2. Now consider the following graphical model\n",
    "<p>\n",
    "<img src=\"resources/pgm_4.png\" width=\"150\">\n",
    "<p> By looking to the graph, we can easily write the corresponding probability function as<p> $$p(A,B,C)=p(C)p(B|C)p(A|C)$$<p>\n",
    "Now, is A conditionally independent on B given nothing? If we look again to the graph, we can see that the arrows of A and B meet tail-to-tail in the node C. However, we are not observing the node C, so the rules that we defined above do not verify here. So, according to our rules, the path is not \"blocked\" and the conditional independency between A and B given nothing does not hold, i.e., $A \\not\\!\\perp\\!\\!\\!\\perp B \\: |\\: \\emptyset$.\n",
    "<p><p>\n",
    "Let's now consider the same problem but observing C. Is A conditionally independent of B given C? <p>\n",
    "<img src=\"resources/pgm_5.png\" width=\"150\">\n",
    "<p>\n",
    "Let's observe our new graph and look again to the d-separated rules. Like before, we can see that the arrows of A and B meet tail-to-tail in the node C but now we are observing the node C. So according to our rules, we have enough evidence to say that A is conditionally independent on B given C, i.e., $A \\perp\\!\\!\\!\\perp B \\: |\\: C$ ."
   ]
  },
  {
   "cell_type": "markdown",
   "metadata": {},
   "source": [
    "### Undirected Graphical Models"
   ]
  },
  {
   "cell_type": "markdown",
   "metadata": {},
   "source": [
    "We have seen how to interpret directed GM. With undirected GM, the procedure is not the same.<br>\n",
    "As we saw before, in undirected graphs the edges have no direction. Thus, we cannot use the d-separated rules to see if two nodes are conditionally independent. Consider the following GM<p>\n",
    "<img src=\"resources/pgm_6.png\" width=\"200\"><p>\n",
    "In this type of GM, instead of edges representing dependencies, we identify dependencies according to the concept of **clique**. A clique is a subset of nodes in the graph, such that there is a connection between all pairs of nodes in that subset. In this case, the pairs of cliques are $(A,C),\\:,(C,B),\\:(A,B),\\:(A,D),\\:(D,E),\\:(D,F),\\:(A,B,C)$. We say that $(A,B,C)$ is a maximal clique. We can write this graph as the product of joint distributions $$p(A,B,C,D,E,F)=p(A,B,C)p(A,D)p(D,E)p(D,F)$$\n",
    "<p>In this sense, in an undirected GM, we investigate conditional independence based on the connections between two sets of nodes, while observing a third set. Consider three sets of nodes $X,\\: Y,\\:$ and $Z\\:$. If the nodes in the set $Z$ are blocking the path between any pair of nodes formed by a node from $X$ and a node from $Y$, then we say that the set $X$ is conditionally independent on $Y$ given $Z$.<br>\n",
    "Let's use the same GM and observe a set $Z$ formed by the nodes $A$ and $D$. Then, let $X$ be a set formed by $B$ and $C$. and $Y$ a set formed by the node $E$\n",
    "<img src=\"resources/pgm_7.png\" width=\"200\"><p>\n",
    "In this case, we can see that it is impossible to get from any node on the set $X$ to a node in the set $Y$ (which in this case is just formed by the node $E$), since the clique formed by the set $Z$ is blocking the way. So, we say that $X \\perp\\!\\!\\!\\perp Y \\: |\\: Z$ . Another way of confirming conditional independence here is by removing the set $Z$ from the graph. We can see that, if we remove that set, then the graph breaks apart and lose all the connections between $X$ and $Y$. So, they are conditionally indendent given $Z$.<br>\n",
    "As you can see, it is even easier to check for conditional independence in this second type of GM."
   ]
  },
  {
   "cell_type": "markdown",
   "metadata": {},
   "source": [
    "## Factor Graphs"
   ]
  },
  {
   "cell_type": "markdown",
   "metadata": {},
   "source": [
    "By far we have seen how to represent GMs as directed and undirected graphs and check for conditional independence.\n",
    "<br>\n",
    "However, we can represent them also as a product of factors over the variables that form the probability distribution. We can this representation a Factor Graph.\n",
    "<br>\n",
    "Consider the following probability function $$p(x_1, x_2, x_3) = p(x_3)p(x_1|x_3)p(x_2|x_3)$$\n",
    "<br>\n",
    "As we have seen before, this probability function can be represented as the following directed graph:\n",
    "    <img src=\"resources/pgm_9.png\" width=\"150\">\n",
    "<br>\n",
    "To convert it into a Factor Graph, we just need to rewrite the probbability function as a product of factors over the variables. By looking to the function, we can write three factors where each one corresponds to the factors of the given probability distribution,<p> $$f_a(x_1,x_3) = p(x_1|x_3)$$<br> $$f_b(x_2,x_3) = p(x_2|x_3)$$<br> $$f_c(x_3) = p(x_3)$$ \n",
    "<p>Given the factors, we can represent the corresponding factor graph as<p>\n",
    "    <img src=\"resources/factor_graph_2.png\" width=\"300\">\n",
    "<p>\n",
    "This way, we are representing the same probability distribution but now as a product of factors allowing to represent more detailed information about the factorization. In this case, we can say that $f_a$ is a normalized distribution of $x_1$ and depends on $x_3$, $f_b$ is a normalized distribution of $x_2$ and depends on $x_3$ and $f_c$ is a normalized distribution of $x_3$. This way, we can write our probability distribution function as a product of factors,<p> $$p(x_1,x_2,x_3) = f_c(x_3)f_a(x_1,x_3)f_b(x_2,x_3)$$\n",
    "<p>\n",
    "At this point, using the factor graph we can do inference. For example, if we ask what is the marginal distribution of $x_3$?\n",
    "To calculate this distribution, we use an algorithm called <b>The Sum-Product Algorithm</b>.<br>\n",
    "Recall the sum rule mentioned in the beginning of this tutorial. Then we can write <p> $$p(x_3)=\\sum_{x_1}\\sum_{x_2} p(x_1,x_2,x_3)$$<p>\n",
    "Using our factorized probability distribution function, we can rewrite this as <p>\n",
    "$$p(x_3)=f_c(x_3)\\left[\\sum_{x_1}f_a(x_1,x_3)\\right]\\left[\\sum_{x_2}f_b(x_2,x_3)\\right]$$\n",
    "   <p> $$=m_{f_c\\to x_3}(x_3)\\cdot m_{f_a\\to x_3}(x_3) \\cdot m_{f_b\\to x_3}(x_3)$$\n",
    "<p>\n",
    "where $m$ are messages that the factors send to $x_3$. \n",
    "<br>At this point, we have deduced how to calculate the marginal distribution of $x_3$ in this particular graph."
   ]
  },
  {
   "cell_type": "markdown",
   "metadata": {},
   "source": [
    "## PGM with Python"
   ]
  },
  {
   "cell_type": "markdown",
   "metadata": {},
   "source": [
    "Now that we have learnt about Probailistic Graphical Models, we are ready to apply them in practice. To do that, we are going to use a Python library called **pgmpy**. The documentation can be found through this [link](https://pgmpy.org/). The instalation instructions can also be found in this [link](https://github.com/pgmpy/pgmpy#installation)."
   ]
  },
  {
   "cell_type": "code",
   "execution_count": 193,
   "metadata": {},
   "outputs": [],
   "source": [
    "# in this example, we will use one of the built in examples of pgmpy\n",
    "from pgmpy.utils import get_example_model\n",
    "\n",
    "model = get_example_model('earthquake')"
   ]
  },
  {
   "cell_type": "code",
   "execution_count": 194,
   "metadata": {},
   "outputs": [
    {
     "name": "stdout",
     "output_type": "stream",
     "text": [
      "Nodes:  ['Burglary', 'Earthquake', 'Alarm', 'JohnCalls', 'MaryCalls']\n",
      "Edges:  [('Burglary', 'Alarm'), ('Earthquake', 'Alarm'), ('Alarm', 'JohnCalls'), ('Alarm', 'MaryCalls')]\n"
     ]
    },
    {
     "data": {
      "text/plain": [
       "[<TabularCPD representing P(Alarm:2 | Burglary:2, Earthquake:2) at 0x23a08a30888>,\n",
       " <TabularCPD representing P(Burglary:2) at 0x23a0ae45b08>,\n",
       " <TabularCPD representing P(Earthquake:2) at 0x23a0ae45b88>,\n",
       " <TabularCPD representing P(JohnCalls:2 | Alarm:2) at 0x23a0ae45a88>,\n",
       " <TabularCPD representing P(MaryCalls:2 | Alarm:2) at 0x23a0ae45508>]"
      ]
     },
     "execution_count": 194,
     "metadata": {},
     "output_type": "execute_result"
    }
   ],
   "source": [
    "print('Nodes: ', model.nodes())\n",
    "print('Edges: ', model.edges())\n",
    "\n",
    "# display conditional probability distribution functions of each node\n",
    "model.get_cpds()"
   ]
  },
  {
   "cell_type": "markdown",
   "metadata": {},
   "source": [
    "This GM is already constructed. We have printed the nodes and edges to have an idea of its shape. Furthermore, by calling ```get_cpds()```, we can see the probability functions associated to each node. For example, we know that the node Burglary has a probability function $p(Burglary)$ with two possible outcomes, while the node Alarm is conditioned on the variables Burglary and Earthquake, all with two possible outcomes as well. This GM was obtained from [here](https://www.bnlearn.com/bnrepository/discrete-small.html#earthquake), represented as<p>\n",
    "<img src=\"resources/earthquake.png\" width=\"300\">"
   ]
  },
  {
   "cell_type": "markdown",
   "metadata": {},
   "source": [
    "By looking to the GM and to the conditional probability distribution functions we can understand how the different variables are related to each other. Lets now use pgmpy to do inference on our model."
   ]
  },
  {
   "cell_type": "code",
   "execution_count": 195,
   "metadata": {},
   "outputs": [],
   "source": [
    "from pgmpy.inference import VariableElimination\n",
    "\n",
    "# initialize inference by elimination of a variable, similar to what we demonstrated before\n",
    "infer = VariableElimination(model)"
   ]
  },
  {
   "cell_type": "code",
   "execution_count": 196,
   "metadata": {},
   "outputs": [
    {
     "name": "stderr",
     "output_type": "stream",
     "text": [
      "Finding Elimination Order: : 100%|█████████████████████████████████████████████████████| 4/4 [00:00<00:00, 4009.85it/s]\n",
      "Eliminating: MaryCalls: 100%|███████████████████████████████████████████████████████████| 4/4 [00:00<00:00, 445.49it/s]\n"
     ]
    },
    {
     "name": "stdout",
     "output_type": "stream",
     "text": [
      "+-------------------+-------------------+\n",
      "| Earthquake        |   phi(Earthquake) |\n",
      "+===================+===================+\n",
      "| Earthquake(True)  |            0.0200 |\n",
      "+-------------------+-------------------+\n",
      "| Earthquake(False) |            0.9800 |\n",
      "+-------------------+-------------------+\n"
     ]
    }
   ],
   "source": [
    "# now that we have initialized inference model, we can use it to do inference in our model\n",
    "\n",
    "# for example, lets infer the distribution of the variable Earthquake\n",
    "\n",
    "q = infer.query(variables=['Earthquake'])\n",
    "print(q)"
   ]
  },
  {
   "cell_type": "code",
   "execution_count": 197,
   "metadata": {},
   "outputs": [
    {
     "name": "stderr",
     "output_type": "stream",
     "text": [
      "Finding Elimination Order: : 100%|█████████████████████████████████████████████████████| 3/3 [00:00<00:00, 3010.27it/s]\n",
      "Eliminating: Earthquake: 100%|██████████████████████████████████████████████████████████| 3/3 [00:00<00:00, 667.14it/s]\n"
     ]
    },
    {
     "name": "stdout",
     "output_type": "stream",
     "text": [
      "+--------------+--------------+\n",
      "| Alarm        |   phi(Alarm) |\n",
      "+==============+==============+\n",
      "| Alarm(True)  |       0.9402 |\n",
      "+--------------+--------------+\n",
      "| Alarm(False) |       0.0598 |\n",
      "+--------------+--------------+\n"
     ]
    }
   ],
   "source": [
    "# so, we now know the distribution of the variable Earthquake, that can be True 2% of the times and False 98%\n",
    "\n",
    "# say now that we want to know the distribution of the variable Alarm when the variable Burglary is True\n",
    "# in other words, p(Alarm | Burglary=True) is the distribution function to infer\n",
    "\n",
    "q2 = infer.query(variables=['Alarm'], evidence={'Burglary':'True'})\n",
    "print(q2)"
   ]
  },
  {
   "cell_type": "code",
   "execution_count": 198,
   "metadata": {},
   "outputs": [
    {
     "name": "stderr",
     "output_type": "stream",
     "text": [
      "Finding Elimination Order: : 100%|█████████████████████████████████████████████████████| 2/2 [00:00<00:00, 1002.58it/s]\n",
      "Eliminating: Earthquake: 100%|██████████████████████████████████████████████████████████| 2/2 [00:00<00:00, 668.41it/s]\n"
     ]
    },
    {
     "name": "stdout",
     "output_type": "stream",
     "text": [
      "+--------------+------------------+------------------------+\n",
      "| Alarm        | MaryCalls        |   phi(Alarm,MaryCalls) |\n",
      "+==============+==================+========================+\n",
      "| Alarm(True)  | MaryCalls(True)  |                 0.6581 |\n",
      "+--------------+------------------+------------------------+\n",
      "| Alarm(True)  | MaryCalls(False) |                 0.2821 |\n",
      "+--------------+------------------+------------------------+\n",
      "| Alarm(False) | MaryCalls(True)  |                 0.0006 |\n",
      "+--------------+------------------+------------------------+\n",
      "| Alarm(False) | MaryCalls(False) |                 0.0592 |\n",
      "+--------------+------------------+------------------------+\n"
     ]
    }
   ],
   "source": [
    "# this means that, if a burglary occurs, the probability of the alarm ringing is 94.02%\n",
    "# likewise, we can do a lot of different inferences in our model\n",
    "\n",
    "# lets try now a joint distribution of Alarm and MaryCalls given Burglary=True\n",
    "q3 = infer.query(variables=['Alarm', 'MaryCalls'], evidence={'Burglary':'True'})\n",
    "print(q3)"
   ]
  },
  {
   "cell_type": "code",
   "execution_count": 199,
   "metadata": {},
   "outputs": [
    {
     "name": "stdout",
     "output_type": "stream",
     "text": [
      "(Burglary _|_ Earthquake)\n",
      "(Earthquake _|_ Burglary)\n",
      "\n",
      "(JohnCalls _|_ Earthquake, Burglary, MaryCalls | Alarm)\n",
      "(MaryCalls _|_ JohnCalls, Burglary, Earthquake | Alarm)\n"
     ]
    }
   ],
   "source": [
    "# recall the independeny concepts we learnt before\n",
    "# we can check for indepencency among the variables of our model\n",
    "\n",
    "for node in model.nodes():\n",
    "    print(model.local_independencies(node))"
   ]
  },
  {
   "cell_type": "markdown",
   "metadata": {},
   "source": [
    "So, as we have seen before, Burglary and Earthquake are independent, since according to the rules we defined above, the arrows of the nodes meet head-to-head at a third node (Alarm), and Alarm is not given.\n",
    "<br>\n",
    "Regarding the nodes JohnCalls and MaryCalls, we can say that they are independent on all the other nodes if we observe Alarm. This is confirmed by the other rule, where the arrows on the path of the two nodes meet tail-to-tail or head-to-tail at one node (Alarm) and that node is observed."
   ]
  },
  {
   "cell_type": "code",
   "execution_count": 200,
   "metadata": {},
   "outputs": [
    {
     "name": "stderr",
     "output_type": "stream",
     "text": [
      "Finding Elimination Order: : 100%|█████████████████████████████████████████████████████| 4/4 [00:00<00:00, 4006.98it/s]\n",
      "Eliminating: MaryCalls: 100%|███████████████████████████████████████████████████████████| 4/4 [00:00<00:00, 802.20it/s]\n"
     ]
    },
    {
     "name": "stdout",
     "output_type": "stream",
     "text": [
      "{'Alarm': 'False'}\n"
     ]
    },
    {
     "name": "stderr",
     "output_type": "stream",
     "text": [
      "Finding Elimination Order: : 100%|█████████████████████████████████████████████████████| 3/3 [00:00<00:00, 3010.27it/s]\n",
      "Eliminating: Earthquake: 100%|██████████████████████████████████████████████████████████| 3/3 [00:00<00:00, 429.86it/s]\n"
     ]
    },
    {
     "name": "stdout",
     "output_type": "stream",
     "text": [
      "{'Alarm': 'True'}\n"
     ]
    }
   ],
   "source": [
    "# we can also use the maximum a posteriori (MAP) to predict the most likely value for a certain variable of our model\n",
    "# say that we want to predict the most likely value for Alarm\n",
    "print(infer.map_query(['Alarm']))\n",
    "\n",
    "# and now given burglary=True\n",
    "print(infer.map_query(['Alarm'], evidence={'Burglary':'True'}))"
   ]
  },
  {
   "cell_type": "code",
   "execution_count": 201,
   "metadata": {},
   "outputs": [],
   "source": [
    "# lets try now to create our own pgm from an external dataset\n",
    "import pandas as pd\n",
    "\n",
    "# load dataset\n",
    "df = pd.read_csv('winequality.csv', sep=';', na_values='?', engine='python')"
   ]
  },
  {
   "cell_type": "code",
   "execution_count": 202,
   "metadata": {},
   "outputs": [
    {
     "data": {
      "text/html": [
       "<div>\n",
       "<style scoped>\n",
       "    .dataframe tbody tr th:only-of-type {\n",
       "        vertical-align: middle;\n",
       "    }\n",
       "\n",
       "    .dataframe tbody tr th {\n",
       "        vertical-align: top;\n",
       "    }\n",
       "\n",
       "    .dataframe thead th {\n",
       "        text-align: right;\n",
       "    }\n",
       "</style>\n",
       "<table border=\"1\" class=\"dataframe\">\n",
       "  <thead>\n",
       "    <tr style=\"text-align: right;\">\n",
       "      <th></th>\n",
       "      <th>fixed acidity</th>\n",
       "      <th>volatile acidity</th>\n",
       "      <th>citric acid</th>\n",
       "      <th>residual sugar</th>\n",
       "      <th>chlorides</th>\n",
       "      <th>free sulfur dioxide</th>\n",
       "      <th>total sulfur dioxide</th>\n",
       "      <th>density</th>\n",
       "      <th>pH</th>\n",
       "      <th>sulphates</th>\n",
       "      <th>alcohol</th>\n",
       "      <th>quality</th>\n",
       "    </tr>\n",
       "  </thead>\n",
       "  <tbody>\n",
       "    <tr>\n",
       "      <td>0</td>\n",
       "      <td>7.4</td>\n",
       "      <td>0.70</td>\n",
       "      <td>0.00</td>\n",
       "      <td>1.9</td>\n",
       "      <td>0.076</td>\n",
       "      <td>11.0</td>\n",
       "      <td>34.0</td>\n",
       "      <td>0.9978</td>\n",
       "      <td>3.51</td>\n",
       "      <td>0.56</td>\n",
       "      <td>9.4</td>\n",
       "      <td>5</td>\n",
       "    </tr>\n",
       "    <tr>\n",
       "      <td>1</td>\n",
       "      <td>7.8</td>\n",
       "      <td>0.88</td>\n",
       "      <td>0.00</td>\n",
       "      <td>2.6</td>\n",
       "      <td>0.098</td>\n",
       "      <td>25.0</td>\n",
       "      <td>67.0</td>\n",
       "      <td>0.9968</td>\n",
       "      <td>3.20</td>\n",
       "      <td>0.68</td>\n",
       "      <td>9.8</td>\n",
       "      <td>5</td>\n",
       "    </tr>\n",
       "    <tr>\n",
       "      <td>2</td>\n",
       "      <td>7.8</td>\n",
       "      <td>0.76</td>\n",
       "      <td>0.04</td>\n",
       "      <td>2.3</td>\n",
       "      <td>0.092</td>\n",
       "      <td>15.0</td>\n",
       "      <td>54.0</td>\n",
       "      <td>0.9970</td>\n",
       "      <td>3.26</td>\n",
       "      <td>0.65</td>\n",
       "      <td>9.8</td>\n",
       "      <td>5</td>\n",
       "    </tr>\n",
       "    <tr>\n",
       "      <td>3</td>\n",
       "      <td>11.2</td>\n",
       "      <td>0.28</td>\n",
       "      <td>0.56</td>\n",
       "      <td>1.9</td>\n",
       "      <td>0.075</td>\n",
       "      <td>17.0</td>\n",
       "      <td>60.0</td>\n",
       "      <td>0.9980</td>\n",
       "      <td>3.16</td>\n",
       "      <td>0.58</td>\n",
       "      <td>9.8</td>\n",
       "      <td>6</td>\n",
       "    </tr>\n",
       "    <tr>\n",
       "      <td>4</td>\n",
       "      <td>7.4</td>\n",
       "      <td>0.70</td>\n",
       "      <td>0.00</td>\n",
       "      <td>1.9</td>\n",
       "      <td>0.076</td>\n",
       "      <td>11.0</td>\n",
       "      <td>34.0</td>\n",
       "      <td>0.9978</td>\n",
       "      <td>3.51</td>\n",
       "      <td>0.56</td>\n",
       "      <td>9.4</td>\n",
       "      <td>5</td>\n",
       "    </tr>\n",
       "  </tbody>\n",
       "</table>\n",
       "</div>"
      ],
      "text/plain": [
       "   fixed acidity  volatile acidity  citric acid  residual sugar  chlorides  \\\n",
       "0            7.4              0.70         0.00             1.9      0.076   \n",
       "1            7.8              0.88         0.00             2.6      0.098   \n",
       "2            7.8              0.76         0.04             2.3      0.092   \n",
       "3           11.2              0.28         0.56             1.9      0.075   \n",
       "4            7.4              0.70         0.00             1.9      0.076   \n",
       "\n",
       "   free sulfur dioxide  total sulfur dioxide  density    pH  sulphates  \\\n",
       "0                 11.0                  34.0   0.9978  3.51       0.56   \n",
       "1                 25.0                  67.0   0.9968  3.20       0.68   \n",
       "2                 15.0                  54.0   0.9970  3.26       0.65   \n",
       "3                 17.0                  60.0   0.9980  3.16       0.58   \n",
       "4                 11.0                  34.0   0.9978  3.51       0.56   \n",
       "\n",
       "   alcohol  quality  \n",
       "0      9.4        5  \n",
       "1      9.8        5  \n",
       "2      9.8        5  \n",
       "3      9.8        6  \n",
       "4      9.4        5  "
      ]
     },
     "execution_count": 202,
     "metadata": {},
     "output_type": "execute_result"
    }
   ],
   "source": [
    "# lets see what are we dealing with\n",
    "df.head()"
   ]
  },
  {
   "cell_type": "code",
   "execution_count": 203,
   "metadata": {},
   "outputs": [
    {
     "name": "stdout",
     "output_type": "stream",
     "text": [
      "fixed acidity           False\n",
      "volatile acidity        False\n",
      "citric acid             False\n",
      "residual sugar          False\n",
      "chlorides               False\n",
      "free sulfur dioxide     False\n",
      "total sulfur dioxide    False\n",
      "density                 False\n",
      "pH                      False\n",
      "sulphates               False\n",
      "alcohol                 False\n",
      "quality                 False\n",
      "dtype: bool\n",
      "fixed acidity           False\n",
      "volatile acidity        False\n",
      "citric acid             False\n",
      "residual sugar          False\n",
      "chlorides               False\n",
      "free sulfur dioxide     False\n",
      "total sulfur dioxide    False\n",
      "density                 False\n",
      "pH                      False\n",
      "sulphates               False\n",
      "alcohol                 False\n",
      "quality                 False\n",
      "dtype: bool\n"
     ]
    }
   ],
   "source": [
    "# check for null or nan values\n",
    "print(df.any().isnull())\n",
    "print(df.any().isna())"
   ]
  },
  {
   "cell_type": "code",
   "execution_count": 204,
   "metadata": {},
   "outputs": [
    {
     "name": "stdout",
     "output_type": "stream",
     "text": [
      "Unique values for fixed acidity: 96\n",
      "7.2     67\n",
      "7.1     57\n",
      "7.8     53\n",
      "7.5     52\n",
      "7.0     50\n",
      "        ..\n",
      "13.4     1\n",
      "14.0     1\n",
      "5.5      1\n",
      "4.6      1\n",
      "4.7      1\n",
      "Name: fixed acidity, Length: 96, dtype: int64\n",
      "--------------------------------\n",
      "Unique values for volatile acidity: 143\n",
      "0.600    47\n",
      "0.500    46\n",
      "0.430    43\n",
      "0.590    39\n",
      "0.360    38\n",
      "         ..\n",
      "1.090     1\n",
      "1.035     1\n",
      "1.580     1\n",
      "0.950     1\n",
      "0.805     1\n",
      "Name: volatile acidity, Length: 143, dtype: int64\n",
      "--------------------------------\n",
      "Unique values for citric acid: 80\n",
      "0.00    132\n",
      "0.49     68\n",
      "0.24     51\n",
      "0.02     50\n",
      "0.26     38\n",
      "       ... \n",
      "0.75      1\n",
      "0.78      1\n",
      "1.00      1\n",
      "0.62      1\n",
      "0.72      1\n",
      "Name: citric acid, Length: 80, dtype: int64\n",
      "--------------------------------\n",
      "Unique values for residual sugar: 91\n",
      "2.00    156\n",
      "2.20    131\n",
      "1.80    129\n",
      "2.10    128\n",
      "1.90    117\n",
      "       ... \n",
      "5.70      1\n",
      "2.85      1\n",
      "7.30      1\n",
      "8.90      1\n",
      "2.65      1\n",
      "Name: residual sugar, Length: 91, dtype: int64\n",
      "--------------------------------\n",
      "Unique values for chlorides: 153\n",
      "0.080    66\n",
      "0.074    55\n",
      "0.078    51\n",
      "0.076    51\n",
      "0.084    49\n",
      "         ..\n",
      "0.043     1\n",
      "0.222     1\n",
      "0.170     1\n",
      "0.368     1\n",
      "0.125     1\n",
      "Name: chlorides, Length: 153, dtype: int64\n",
      "--------------------------------\n",
      "Unique values for free sulfur dioxide: 60\n",
      "6.0     138\n",
      "5.0     104\n",
      "10.0     79\n",
      "15.0     78\n",
      "12.0     75\n",
      "7.0      71\n",
      "9.0      62\n",
      "16.0     61\n",
      "17.0     60\n",
      "11.0     59\n",
      "13.0     57\n",
      "8.0      56\n",
      "14.0     50\n",
      "3.0      49\n",
      "18.0     46\n",
      "4.0      41\n",
      "21.0     41\n",
      "19.0     39\n",
      "24.0     34\n",
      "23.0     32\n",
      "26.0     32\n",
      "20.0     30\n",
      "27.0     29\n",
      "25.0     24\n",
      "28.0     23\n",
      "29.0     23\n",
      "32.0     22\n",
      "22.0     22\n",
      "31.0     20\n",
      "34.0     18\n",
      "30.0     16\n",
      "35.0     15\n",
      "33.0     11\n",
      "36.0     11\n",
      "38.0      9\n",
      "41.0      7\n",
      "40.0      6\n",
      "39.0      5\n",
      "48.0      4\n",
      "51.0      4\n",
      "42.0      3\n",
      "43.0      3\n",
      "52.0      3\n",
      "37.0      3\n",
      "1.0       3\n",
      "45.0      3\n",
      "55.0      2\n",
      "37.5      2\n",
      "50.0      2\n",
      "68.0      2\n",
      "5.5       1\n",
      "53.0      1\n",
      "2.0       1\n",
      "54.0      1\n",
      "47.0      1\n",
      "57.0      1\n",
      "72.0      1\n",
      "66.0      1\n",
      "40.5      1\n",
      "46.0      1\n",
      "Name: free sulfur dioxide, dtype: int64\n",
      "--------------------------------\n",
      "Unique values for total sulfur dioxide: 144\n",
      "28.0     43\n",
      "24.0     36\n",
      "18.0     35\n",
      "15.0     35\n",
      "23.0     34\n",
      "         ..\n",
      "142.0     1\n",
      "126.0     1\n",
      "139.0     1\n",
      "140.0     1\n",
      "160.0     1\n",
      "Name: total sulfur dioxide, Length: 144, dtype: int64\n",
      "--------------------------------\n",
      "Unique values for density: 436\n",
      "0.99720    36\n",
      "0.99760    35\n",
      "0.99680    35\n",
      "0.99800    29\n",
      "0.99620    28\n",
      "           ..\n",
      "0.99384     1\n",
      "0.99252     1\n",
      "0.99823     1\n",
      "0.99417     1\n",
      "0.99581     1\n",
      "Name: density, Length: 436, dtype: int64\n",
      "--------------------------------\n",
      "Unique values for pH: 89\n",
      "3.30    57\n",
      "3.36    56\n",
      "3.26    53\n",
      "3.38    48\n",
      "3.39    48\n",
      "        ..\n",
      "2.95     1\n",
      "3.74     1\n",
      "2.87     1\n",
      "2.90     1\n",
      "3.70     1\n",
      "Name: pH, Length: 89, dtype: int64\n",
      "--------------------------------\n",
      "Unique values for sulphates: 96\n",
      "0.60    69\n",
      "0.58    68\n",
      "0.54    68\n",
      "0.62    61\n",
      "0.56    60\n",
      "        ..\n",
      "1.20     1\n",
      "0.33     1\n",
      "1.26     1\n",
      "1.11     1\n",
      "1.61     1\n",
      "Name: sulphates, Length: 96, dtype: int64\n",
      "--------------------------------\n",
      "Unique values for alcohol: 65\n",
      "9.500000     139\n",
      "9.400000     103\n",
      "9.800000      78\n",
      "9.200000      72\n",
      "10.500000     67\n",
      "            ... \n",
      "11.950000      1\n",
      "9.233333       1\n",
      "11.066667      1\n",
      "13.200000      1\n",
      "9.566667       1\n",
      "Name: alcohol, Length: 65, dtype: int64\n",
      "--------------------------------\n",
      "Unique values for quality: 6\n",
      "5    681\n",
      "6    638\n",
      "7    199\n",
      "4     53\n",
      "8     18\n",
      "3     10\n",
      "Name: quality, dtype: int64\n",
      "--------------------------------\n"
     ]
    }
   ],
   "source": [
    "for column in df.columns:\n",
    "    print(\"Unique values for {}: {}\".format(column, len(df[column].unique())))\n",
    "    print(df[column].value_counts())\n",
    "    print('-'*32)"
   ]
  },
  {
   "cell_type": "code",
   "execution_count": 205,
   "metadata": {},
   "outputs": [
    {
     "data": {
      "text/html": [
       "<div>\n",
       "<style scoped>\n",
       "    .dataframe tbody tr th:only-of-type {\n",
       "        vertical-align: middle;\n",
       "    }\n",
       "\n",
       "    .dataframe tbody tr th {\n",
       "        vertical-align: top;\n",
       "    }\n",
       "\n",
       "    .dataframe thead th {\n",
       "        text-align: right;\n",
       "    }\n",
       "</style>\n",
       "<table border=\"1\" class=\"dataframe\">\n",
       "  <thead>\n",
       "    <tr style=\"text-align: right;\">\n",
       "      <th></th>\n",
       "      <th>fixed acidity</th>\n",
       "      <th>volatile acidity</th>\n",
       "      <th>citric acid</th>\n",
       "      <th>residual sugar</th>\n",
       "      <th>chlorides</th>\n",
       "      <th>free sulfur dioxide</th>\n",
       "      <th>total sulfur dioxide</th>\n",
       "      <th>density</th>\n",
       "      <th>pH</th>\n",
       "      <th>sulphates</th>\n",
       "      <th>alcohol</th>\n",
       "      <th>quality</th>\n",
       "    </tr>\n",
       "  </thead>\n",
       "  <tbody>\n",
       "    <tr>\n",
       "      <td>0</td>\n",
       "      <td>4.598999999999999 to 7.4</td>\n",
       "      <td>0.6 to 1.58</td>\n",
       "      <td>-0.001 to 0.15</td>\n",
       "      <td>0.899 to 2.0</td>\n",
       "      <td>0.074 to 0.085</td>\n",
       "      <td>10.0 to 18.0</td>\n",
       "      <td>26.0 to 52.0</td>\n",
       "      <td>0.997 to 1.004</td>\n",
       "      <td>3.37 to 4.01</td>\n",
       "      <td>0.329 to 0.57</td>\n",
       "      <td>8.399000000000001 to 9.7</td>\n",
       "      <td>2.999 to 5.0</td>\n",
       "    </tr>\n",
       "    <tr>\n",
       "      <td>1</td>\n",
       "      <td>7.4 to 8.8</td>\n",
       "      <td>0.6 to 1.58</td>\n",
       "      <td>-0.001 to 0.15</td>\n",
       "      <td>2.4 to 15.5</td>\n",
       "      <td>0.085 to 0.611</td>\n",
       "      <td>18.0 to 72.0</td>\n",
       "      <td>52.0 to 289.0</td>\n",
       "      <td>0.996 to 0.997</td>\n",
       "      <td>2.7390000000000003 to 3.25</td>\n",
       "      <td>0.57 to 0.68</td>\n",
       "      <td>9.7 to 10.8</td>\n",
       "      <td>2.999 to 5.0</td>\n",
       "    </tr>\n",
       "    <tr>\n",
       "      <td>2</td>\n",
       "      <td>7.4 to 8.8</td>\n",
       "      <td>0.6 to 1.58</td>\n",
       "      <td>-0.001 to 0.15</td>\n",
       "      <td>2.0 to 2.4</td>\n",
       "      <td>0.085 to 0.611</td>\n",
       "      <td>10.0 to 18.0</td>\n",
       "      <td>52.0 to 289.0</td>\n",
       "      <td>0.996 to 0.997</td>\n",
       "      <td>3.25 to 3.37</td>\n",
       "      <td>0.57 to 0.68</td>\n",
       "      <td>9.7 to 10.8</td>\n",
       "      <td>2.999 to 5.0</td>\n",
       "    </tr>\n",
       "    <tr>\n",
       "      <td>3</td>\n",
       "      <td>8.8 to 15.9</td>\n",
       "      <td>0.119 to 0.43</td>\n",
       "      <td>0.363 to 1.0</td>\n",
       "      <td>0.899 to 2.0</td>\n",
       "      <td>0.074 to 0.085</td>\n",
       "      <td>10.0 to 18.0</td>\n",
       "      <td>52.0 to 289.0</td>\n",
       "      <td>0.997 to 1.004</td>\n",
       "      <td>2.7390000000000003 to 3.25</td>\n",
       "      <td>0.57 to 0.68</td>\n",
       "      <td>9.7 to 10.8</td>\n",
       "      <td>5.0 to 6.0</td>\n",
       "    </tr>\n",
       "    <tr>\n",
       "      <td>4</td>\n",
       "      <td>4.598999999999999 to 7.4</td>\n",
       "      <td>0.6 to 1.58</td>\n",
       "      <td>-0.001 to 0.15</td>\n",
       "      <td>0.899 to 2.0</td>\n",
       "      <td>0.074 to 0.085</td>\n",
       "      <td>10.0 to 18.0</td>\n",
       "      <td>26.0 to 52.0</td>\n",
       "      <td>0.997 to 1.004</td>\n",
       "      <td>3.37 to 4.01</td>\n",
       "      <td>0.329 to 0.57</td>\n",
       "      <td>8.399000000000001 to 9.7</td>\n",
       "      <td>2.999 to 5.0</td>\n",
       "    </tr>\n",
       "    <tr>\n",
       "      <td>...</td>\n",
       "      <td>...</td>\n",
       "      <td>...</td>\n",
       "      <td>...</td>\n",
       "      <td>...</td>\n",
       "      <td>...</td>\n",
       "      <td>...</td>\n",
       "      <td>...</td>\n",
       "      <td>...</td>\n",
       "      <td>...</td>\n",
       "      <td>...</td>\n",
       "      <td>...</td>\n",
       "      <td>...</td>\n",
       "    </tr>\n",
       "    <tr>\n",
       "      <td>1594</td>\n",
       "      <td>4.598999999999999 to 7.4</td>\n",
       "      <td>0.43 to 0.6</td>\n",
       "      <td>-0.001 to 0.15</td>\n",
       "      <td>0.899 to 2.0</td>\n",
       "      <td>0.085 to 0.611</td>\n",
       "      <td>18.0 to 72.0</td>\n",
       "      <td>26.0 to 52.0</td>\n",
       "      <td>0.989 to 0.996</td>\n",
       "      <td>3.37 to 4.01</td>\n",
       "      <td>0.57 to 0.68</td>\n",
       "      <td>9.7 to 10.8</td>\n",
       "      <td>2.999 to 5.0</td>\n",
       "    </tr>\n",
       "    <tr>\n",
       "      <td>1595</td>\n",
       "      <td>4.598999999999999 to 7.4</td>\n",
       "      <td>0.43 to 0.6</td>\n",
       "      <td>-0.001 to 0.15</td>\n",
       "      <td>2.0 to 2.4</td>\n",
       "      <td>0.011 to 0.074</td>\n",
       "      <td>18.0 to 72.0</td>\n",
       "      <td>26.0 to 52.0</td>\n",
       "      <td>0.989 to 0.996</td>\n",
       "      <td>3.37 to 4.01</td>\n",
       "      <td>0.68 to 2.0</td>\n",
       "      <td>10.8 to 14.9</td>\n",
       "      <td>5.0 to 6.0</td>\n",
       "    </tr>\n",
       "    <tr>\n",
       "      <td>1596</td>\n",
       "      <td>4.598999999999999 to 7.4</td>\n",
       "      <td>0.43 to 0.6</td>\n",
       "      <td>-0.001 to 0.15</td>\n",
       "      <td>2.0 to 2.4</td>\n",
       "      <td>0.074 to 0.085</td>\n",
       "      <td>18.0 to 72.0</td>\n",
       "      <td>26.0 to 52.0</td>\n",
       "      <td>0.989 to 0.996</td>\n",
       "      <td>3.37 to 4.01</td>\n",
       "      <td>0.68 to 2.0</td>\n",
       "      <td>10.8 to 14.9</td>\n",
       "      <td>5.0 to 6.0</td>\n",
       "    </tr>\n",
       "    <tr>\n",
       "      <td>1597</td>\n",
       "      <td>4.598999999999999 to 7.4</td>\n",
       "      <td>0.6 to 1.58</td>\n",
       "      <td>-0.001 to 0.15</td>\n",
       "      <td>0.899 to 2.0</td>\n",
       "      <td>0.074 to 0.085</td>\n",
       "      <td>18.0 to 72.0</td>\n",
       "      <td>26.0 to 52.0</td>\n",
       "      <td>0.989 to 0.996</td>\n",
       "      <td>3.37 to 4.01</td>\n",
       "      <td>0.68 to 2.0</td>\n",
       "      <td>9.7 to 10.8</td>\n",
       "      <td>2.999 to 5.0</td>\n",
       "    </tr>\n",
       "    <tr>\n",
       "      <td>1598</td>\n",
       "      <td>4.598999999999999 to 7.4</td>\n",
       "      <td>0.119 to 0.43</td>\n",
       "      <td>0.363 to 1.0</td>\n",
       "      <td>2.4 to 15.5</td>\n",
       "      <td>0.011 to 0.074</td>\n",
       "      <td>10.0 to 18.0</td>\n",
       "      <td>26.0 to 52.0</td>\n",
       "      <td>0.989 to 0.996</td>\n",
       "      <td>3.37 to 4.01</td>\n",
       "      <td>0.57 to 0.68</td>\n",
       "      <td>10.8 to 14.9</td>\n",
       "      <td>5.0 to 6.0</td>\n",
       "    </tr>\n",
       "  </tbody>\n",
       "</table>\n",
       "<p>1599 rows × 12 columns</p>\n",
       "</div>"
      ],
      "text/plain": [
       "                 fixed acidity volatile acidity     citric acid  \\\n",
       "0     4.598999999999999 to 7.4      0.6 to 1.58  -0.001 to 0.15   \n",
       "1                   7.4 to 8.8      0.6 to 1.58  -0.001 to 0.15   \n",
       "2                   7.4 to 8.8      0.6 to 1.58  -0.001 to 0.15   \n",
       "3                  8.8 to 15.9    0.119 to 0.43    0.363 to 1.0   \n",
       "4     4.598999999999999 to 7.4      0.6 to 1.58  -0.001 to 0.15   \n",
       "...                        ...              ...             ...   \n",
       "1594  4.598999999999999 to 7.4      0.43 to 0.6  -0.001 to 0.15   \n",
       "1595  4.598999999999999 to 7.4      0.43 to 0.6  -0.001 to 0.15   \n",
       "1596  4.598999999999999 to 7.4      0.43 to 0.6  -0.001 to 0.15   \n",
       "1597  4.598999999999999 to 7.4      0.6 to 1.58  -0.001 to 0.15   \n",
       "1598  4.598999999999999 to 7.4    0.119 to 0.43    0.363 to 1.0   \n",
       "\n",
       "     residual sugar       chlorides free sulfur dioxide total sulfur dioxide  \\\n",
       "0      0.899 to 2.0  0.074 to 0.085        10.0 to 18.0         26.0 to 52.0   \n",
       "1       2.4 to 15.5  0.085 to 0.611        18.0 to 72.0        52.0 to 289.0   \n",
       "2        2.0 to 2.4  0.085 to 0.611        10.0 to 18.0        52.0 to 289.0   \n",
       "3      0.899 to 2.0  0.074 to 0.085        10.0 to 18.0        52.0 to 289.0   \n",
       "4      0.899 to 2.0  0.074 to 0.085        10.0 to 18.0         26.0 to 52.0   \n",
       "...             ...             ...                 ...                  ...   \n",
       "1594   0.899 to 2.0  0.085 to 0.611        18.0 to 72.0         26.0 to 52.0   \n",
       "1595     2.0 to 2.4  0.011 to 0.074        18.0 to 72.0         26.0 to 52.0   \n",
       "1596     2.0 to 2.4  0.074 to 0.085        18.0 to 72.0         26.0 to 52.0   \n",
       "1597   0.899 to 2.0  0.074 to 0.085        18.0 to 72.0         26.0 to 52.0   \n",
       "1598    2.4 to 15.5  0.011 to 0.074        10.0 to 18.0         26.0 to 52.0   \n",
       "\n",
       "             density                          pH      sulphates  \\\n",
       "0     0.997 to 1.004                3.37 to 4.01  0.329 to 0.57   \n",
       "1     0.996 to 0.997  2.7390000000000003 to 3.25   0.57 to 0.68   \n",
       "2     0.996 to 0.997                3.25 to 3.37   0.57 to 0.68   \n",
       "3     0.997 to 1.004  2.7390000000000003 to 3.25   0.57 to 0.68   \n",
       "4     0.997 to 1.004                3.37 to 4.01  0.329 to 0.57   \n",
       "...              ...                         ...            ...   \n",
       "1594  0.989 to 0.996                3.37 to 4.01   0.57 to 0.68   \n",
       "1595  0.989 to 0.996                3.37 to 4.01    0.68 to 2.0   \n",
       "1596  0.989 to 0.996                3.37 to 4.01    0.68 to 2.0   \n",
       "1597  0.989 to 0.996                3.37 to 4.01    0.68 to 2.0   \n",
       "1598  0.989 to 0.996                3.37 to 4.01   0.57 to 0.68   \n",
       "\n",
       "                       alcohol       quality  \n",
       "0     8.399000000000001 to 9.7  2.999 to 5.0  \n",
       "1                  9.7 to 10.8  2.999 to 5.0  \n",
       "2                  9.7 to 10.8  2.999 to 5.0  \n",
       "3                  9.7 to 10.8    5.0 to 6.0  \n",
       "4     8.399000000000001 to 9.7  2.999 to 5.0  \n",
       "...                        ...           ...  \n",
       "1594               9.7 to 10.8  2.999 to 5.0  \n",
       "1595              10.8 to 14.9    5.0 to 6.0  \n",
       "1596              10.8 to 14.9    5.0 to 6.0  \n",
       "1597               9.7 to 10.8  2.999 to 5.0  \n",
       "1598              10.8 to 14.9    5.0 to 6.0  \n",
       "\n",
       "[1599 rows x 12 columns]"
      ]
     },
     "execution_count": 205,
     "metadata": {},
     "output_type": "execute_result"
    }
   ],
   "source": [
    "# now remember that to build a gm, it is unpractical to have many unique values in each feature of our dataset\n",
    "# we just saw that we have multiple features with many unique values\n",
    "# lets create intervals for them so we can transform them in groups. lets try 3 intervals\n",
    "import numpy as np\n",
    "\n",
    "df_int = df.copy()\n",
    "\n",
    "for j, column in enumerate(df_int.columns):\n",
    "    if len(df_int[column].unique()) > 3:\n",
    "        intervals = pd.qcut(df_int[column], 3)\n",
    "        for i in range(len(df_int)):\n",
    "            df_int.iloc[i, j] = str(intervals[i].left) + ' to ' + str(intervals[i].right)\n",
    "        \n",
    "df_int"
   ]
  },
  {
   "cell_type": "code",
   "execution_count": 206,
   "metadata": {},
   "outputs": [
    {
     "name": "stdout",
     "output_type": "stream",
     "text": [
      "Unique values for fixed acidity: 3\n",
      "4.598999999999999 to 7.4    574\n",
      "7.4 to 8.8                  525\n",
      "8.8 to 15.9                 500\n",
      "Name: fixed acidity, dtype: int64\n",
      "--------------------------------\n",
      "Unique values for volatile acidity: 3\n",
      "0.119 to 0.43    555\n",
      "0.43 to 0.6      540\n",
      "0.6 to 1.58      504\n",
      "Name: volatile acidity, dtype: int64\n",
      "--------------------------------\n",
      "Unique values for citric acid: 3\n",
      "-0.001 to 0.15    538\n",
      "0.363 to 1.0      533\n",
      "0.15 to 0.363     528\n",
      "Name: citric acid, dtype: int64\n",
      "--------------------------------\n",
      "Unique values for residual sugar: 3\n",
      "0.899 to 2.0    620\n",
      "2.4 to 15.5     519\n",
      "2.0 to 2.4      460\n",
      "Name: residual sugar, dtype: int64\n",
      "--------------------------------\n",
      "Unique values for chlorides: 3\n",
      "0.011 to 0.074    571\n",
      "0.085 to 0.611    530\n",
      "0.074 to 0.085    498\n",
      "Name: chlorides, dtype: int64\n",
      "--------------------------------\n",
      "Unique values for free sulfur dioxide: 3\n",
      "0.999 to 10.0    605\n",
      "18.0 to 72.0     508\n",
      "10.0 to 18.0     486\n",
      "Name: free sulfur dioxide, dtype: int64\n",
      "--------------------------------\n",
      "Unique values for total sulfur dioxide: 3\n",
      "26.0 to 52.0     545\n",
      "5.999 to 26.0    534\n",
      "52.0 to 289.0    520\n",
      "Name: total sulfur dioxide, dtype: int64\n",
      "--------------------------------\n",
      "Unique values for density: 3\n",
      "0.996 to 0.997    545\n",
      "0.989 to 0.996    534\n",
      "0.997 to 1.004    520\n",
      "Name: density, dtype: int64\n",
      "--------------------------------\n",
      "Unique values for pH: 3\n",
      "2.7390000000000003 to 3.25    550\n",
      "3.25 to 3.37                  529\n",
      "3.37 to 4.01                  520\n",
      "Name: pH, dtype: int64\n",
      "--------------------------------\n",
      "Unique values for sulphates: 3\n",
      "0.57 to 0.68     542\n",
      "0.329 to 0.57    535\n",
      "0.68 to 2.0      522\n",
      "Name: sulphates, dtype: int64\n",
      "--------------------------------\n",
      "Unique values for alcohol: 3\n",
      "8.399000000000001 to 9.7    552\n",
      "9.7 to 10.8                 531\n",
      "10.8 to 14.9                516\n",
      "Name: alcohol, dtype: int64\n",
      "--------------------------------\n",
      "Unique values for quality: 3\n",
      "2.999 to 5.0    744\n",
      "5.0 to 6.0      638\n",
      "6.0 to 8.0      217\n",
      "Name: quality, dtype: int64\n",
      "--------------------------------\n"
     ]
    }
   ],
   "source": [
    "for column in df_int.columns:\n",
    "    print(\"Unique values for {}: {}\".format(column, len(df_int[column].unique())))\n",
    "    print(df_int[column].value_counts())\n",
    "    print('-'*32)"
   ]
  },
  {
   "cell_type": "code",
   "execution_count": 207,
   "metadata": {},
   "outputs": [
    {
     "name": "stderr",
     "output_type": "stream",
     "text": [
      "  0%|                                                                          | 17/1000000 [00:01<29:16:24,  9.49it/s]\n"
     ]
    }
   ],
   "source": [
    "# at this point we are roking with a maximum of 3 unique values per feature\n",
    "# to create our gm we will use the HillClimbSearch estimator and will use the Bayesian Information Criterion score metric\n",
    "from pgmpy.estimators import BicScore, HillClimbSearch, MaximumLikelihoodEstimator\n",
    "from pgmpy.models import BayesianModel\n",
    "\n",
    "estimator = HillClimbSearch(df_int)\n",
    "\n",
    "# estimate the structure of the gm according to the given metric\n",
    "model_estim = estimator.estimate(scoring_method=BicScore(df_int))\n",
    "edges = list(model_estim.edges())\n",
    "\n",
    "# finally lets create our model from the obtained structure\n",
    "model = BayesianModel(edges)"
   ]
  },
  {
   "cell_type": "code",
   "execution_count": 208,
   "metadata": {},
   "outputs": [
    {
     "data": {
      "image/png": "[encoded data removed]",
      "text/plain": [
       "<Figure size 864x576 with 1 Axes>"
      ]
     },
     "metadata": {},
     "output_type": "display_data"
    }
   ],
   "source": [
    "# now lets draw our graphical model\n",
    "\n",
    "import matplotlib.pyplot as plt\n",
    "import networkx as nx\n",
    "%matplotlib inline\n",
    "\n",
    "plt.figure(figsize=(12,8))\n",
    "\n",
    "nx.draw(model, pos= nx.spring_layout(model), with_labels=True, node_size=2500, node_color=\"#52AFFF\", font_size = 20)\n",
    "plt.show()"
   ]
  },
  {
   "cell_type": "code",
   "execution_count": 209,
   "metadata": {},
   "outputs": [],
   "source": [
    "# but we still need to find the conditional probability distributions corresponding to each node\n",
    "# in order to do that, pgmpy allows to use a MaximumLikelihood estimator to estimate the CPD\n",
    "model.fit(df_int, estimator=MaximumLikelihoodEstimator)\n",
    "\n",
    "# as we did in the previous example, lets now initialize our inference module\n",
    "infer = VariableElimination(model)"
   ]
  },
  {
   "cell_type": "code",
   "execution_count": 223,
   "metadata": {},
   "outputs": [
    {
     "name": "stderr",
     "output_type": "stream",
     "text": [
      "Finding Elimination Order: : 100%|███████████████████████████████████████████████████| 11/11 [00:00<00:00, 7304.84it/s]\n",
      "Eliminating: volatile acidity: 100%|███████████████████████████████████████████████████| 11/11 [00:00<00:00, 49.29it/s]\n"
     ]
    },
    {
     "name": "stdout",
     "output_type": "stream",
     "text": [
      "+--------------------------------+-----------+\n",
      "| pH                             |   phi(pH) |\n",
      "+================================+===========+\n",
      "| pH(2.7390000000000003 to 3.25) |    0.3440 |\n",
      "+--------------------------------+-----------+\n",
      "| pH(3.25 to 3.37)               |    0.3309 |\n",
      "+--------------------------------+-----------+\n",
      "| pH(3.37 to 4.01)               |    0.3251 |\n",
      "+--------------------------------+-----------+\n"
     ]
    }
   ],
   "source": [
    "# now we ready to do inference\n",
    "# lets start by infering about the pH of the wine\n",
    "q = infer.query(variables=['pH'])\n",
    "print(q)"
   ]
  },
  {
   "cell_type": "code",
   "execution_count": 224,
   "metadata": {},
   "outputs": [
    {
     "name": "stderr",
     "output_type": "stream",
     "text": [
      "Finding Elimination Order: : 100%|███████████████████████████████████████████████████| 11/11 [00:00<00:00, 5513.54it/s]\n",
      "Eliminating: volatile acidity: 100%|██████████████████████████████████████████████████| 11/11 [00:00<00:00, 176.21it/s]\n"
     ]
    },
    {
     "name": "stdout",
     "output_type": "stream",
     "text": [
      "+-----------------------------+--------------------+\n",
      "| citric acid                 |   phi(citric acid) |\n",
      "+=============================+====================+\n",
      "| citric acid(-0.001 to 0.15) |             0.3355 |\n",
      "+-----------------------------+--------------------+\n",
      "| citric acid(0.15 to 0.363)  |             0.3315 |\n",
      "+-----------------------------+--------------------+\n",
      "| citric acid(0.363 to 1.0)   |             0.3330 |\n",
      "+-----------------------------+--------------------+\n"
     ]
    }
   ],
   "source": [
    "# now about the citric acid of the wine\n",
    "q2 = infer.query(variables=['citric acid'])\n",
    "print(q2)"
   ]
  },
  {
   "cell_type": "code",
   "execution_count": 225,
   "metadata": {
    "scrolled": true
   },
   "outputs": [
    {
     "name": "stderr",
     "output_type": "stream",
     "text": [
      "Finding Elimination Order: : 100%|███████████████████████████████████████████████████| 10/10 [00:00<00:00, 5011.71it/s]\n",
      "Eliminating: volatile acidity: 100%|██████████████████████████████████████████████████| 10/10 [00:00<00:00, 257.08it/s]\n"
     ]
    },
    {
     "name": "stdout",
     "output_type": "stream",
     "text": [
      "+--------------------------------+-----------+\n",
      "| pH                             |   phi(pH) |\n",
      "+================================+===========+\n",
      "| pH(2.7390000000000003 to 3.25) |    0.5510 |\n",
      "+--------------------------------+-----------+\n",
      "| pH(3.25 to 3.37)               |    0.3016 |\n",
      "+--------------------------------+-----------+\n",
      "| pH(3.37 to 4.01)               |    0.1474 |\n",
      "+--------------------------------+-----------+\n"
     ]
    }
   ],
   "source": [
    "# now that we know about the pH and the citric acid, what happens if we do inference about the pH\n",
    "# given the evidence that the citric acid lies in the interval 0.363 to 1.0\n",
    "q3 = infer.query(variables=['pH'], evidence={'citric acid':'0.363 to 1.0'})\n",
    "print(q3)"
   ]
  },
  {
   "cell_type": "code",
   "execution_count": 233,
   "metadata": {},
   "outputs": [
    {
     "name": "stderr",
     "output_type": "stream",
     "text": [
      "Finding Elimination Order: : 100%|███████████████████████████████████████████████████| 10/10 [00:00<00:00, 8745.42it/s]\n",
      "Eliminating: quality: 100%|███████████████████████████████████████████████████████████| 10/10 [00:00<00:00, 125.42it/s]\n"
     ]
    },
    {
     "name": "stdout",
     "output_type": "stream",
     "text": [
      "{'alcohol': '10.8 to 14.9'}\n"
     ]
    }
   ],
   "source": [
    "# we just saw that as expected the probability for a lowe pH increased, what makes sense since we gave the evidence\n",
    "# of a high amount of citric acid\n",
    "# as in the previous example, we can also infer for some variable using the maximum a posteriori\n",
    "# lets try with the variable alcohol given a pH value as evidence\n",
    "\n",
    "print(infer.map_query(['alcohol'], evidence={'pH':'2.7390000000000003 to 3.25'}))"
   ]
  },
  {
   "cell_type": "code",
   "execution_count": 234,
   "metadata": {},
   "outputs": [],
   "source": [
    "# thus in this case we can say with some level of certainty that if the pH lies between 2.7390000000000003 and 3.25,\n",
    "# then it is very likely that the wine sample will have an alcoholic level bewteen 10.8 and 14.9"
   ]
  }
 ],
 "metadata": {
  "kernelspec": {
   "display_name": "Python 3",
   "language": "python",
   "name": "python3"
  },
  "language_info": {
   "codemirror_mode": {
    "name": "ipython",
    "version": 3
   },
   "file_extension": ".py",
   "mimetype": "text/x-python",
   "name": "python",
   "nbconvert_exporter": "python",
   "pygments_lexer": "ipython3",
   "version": "3.7.4"
  }
 },
 "nbformat": 4,
 "nbformat_minor": 2
}
